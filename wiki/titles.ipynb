{
 "cells": [
  {
   "cell_type": "code",
   "execution_count": 8,
   "metadata": {
    "collapsed": true
   },
   "outputs": [],
   "source": [
    "def convert_line_old(line, lineno=None):\n",
    "    parts = line.split(':    ')\n",
    "    return '\\t'.join(parts)"
   ]
  },
  {
   "cell_type": "code",
   "execution_count": 20,
   "metadata": {
    "collapsed": true
   },
   "outputs": [],
   "source": [
    "def convert_line(line):\n",
    "    ix = line.find(b':')\n",
    "    assert ix != -1\n",
    "    offset = line[:ix]\n",
    "    rest = line[ix+5:]\n",
    "    return b'\\t'.join((offset, rest))"
   ]
  },
  {
   "cell_type": "code",
   "execution_count": 21,
   "metadata": {
    "collapsed": true
   },
   "outputs": [],
   "source": [
    "def convert_file(path):\n",
    "    with open(path, 'rb') as src:\n",
    "        with open(path.replace('.txt', '.tsv'), 'wb') as dst:\n",
    "            for (srclineno, srcline) in enumerate(src):\n",
    "                try:\n",
    "                    dst.write(convert_line(srcline, srclineno) + '\\r')\n",
    "                except:\n",
    "                    print(\"[%d]: %s\" % (srclineno, srcline))\n",
    "                "
   ]
  },
  {
   "cell_type": "code",
   "execution_count": 22,
   "metadata": {
    "collapsed": true
   },
   "outputs": [],
   "source": [
    "line = b'2615:    AccessibleComputing'"
   ]
  },
  {
   "cell_type": "code",
   "execution_count": 23,
   "metadata": {
    "collapsed": false
   },
   "outputs": [
    {
     "data": {
      "text/plain": [
       "b'2615\\tAccessibleComputing'"
      ]
     },
     "execution_count": 23,
     "metadata": {},
     "output_type": "execute_result"
    }
   ],
   "source": [
    "convert_line(line)"
   ]
  },
  {
   "cell_type": "code",
   "execution_count": 1,
   "metadata": {
    "collapsed": true
   },
   "outputs": [],
   "source": [
    "import string\n",
    "import datrie"
   ]
  },
  {
   "cell_type": "code",
   "execution_count": 2,
   "metadata": {
    "collapsed": false
   },
   "outputs": [
    {
     "data": {
      "text/plain": [
       "'abcdefghijklmnopqrstuvwxyzABCDEFGHIJKLMNOPQRSTUVWXYZ'"
      ]
     },
     "execution_count": 2,
     "metadata": {},
     "output_type": "execute_result"
    }
   ],
   "source": [
    "string.ascii_letters"
   ]
  },
  {
   "cell_type": "code",
   "execution_count": 3,
   "metadata": {
    "collapsed": false
   },
   "outputs": [
    {
     "data": {
      "text/plain": [
       "'0123456789abcdefghijklmnopqrstuvwxyzABCDEFGHIJKLMNOPQRSTUVWXYZ!\"#$%&\\'()*+,-./:;<=>?@[\\\\]^_`{|}~ \\t\\n\\r\\x0b\\x0c'"
      ]
     },
     "execution_count": 3,
     "metadata": {},
     "output_type": "execute_result"
    }
   ],
   "source": [
    "string.printable"
   ]
  },
  {
   "cell_type": "code",
   "execution_count": 4,
   "metadata": {
    "collapsed": false
   },
   "outputs": [
    {
     "data": {
      "text/plain": [
       "'!\"#$%&\\'()*+,-./:;<=>?@[\\\\]^_`{|}~'"
      ]
     },
     "execution_count": 4,
     "metadata": {},
     "output_type": "execute_result"
    }
   ],
   "source": [
    "string.punctuation"
   ]
  },
  {
   "cell_type": "code",
   "execution_count": 5,
   "metadata": {
    "collapsed": true
   },
   "outputs": [],
   "source": [
    "allowed = (\n",
    "    string.printable +\n",
    "    string.punctuation\n",
    ")"
   ]
  },
  {
   "cell_type": "code",
   "execution_count": 33,
   "metadata": {
    "collapsed": false
   },
   "outputs": [],
   "source": [
    "titles_trie = datrie.Trie(allowed)\n",
    "titles_offset_trie = datrie.Trie(string.digits)\n",
    "titles_lower_trie = datrie.Trie(string.ascii_lowercase + string.punctuation)"
   ]
  },
  {
   "cell_type": "code",
   "execution_count": 34,
   "metadata": {
    "collapsed": true
   },
   "outputs": [],
   "source": [
    "def convert_word(line):\n",
    "    ix = line.find('\\t')\n",
    "    assert ix != -1\n",
    "    offset = line[:ix]\n",
    "    if line[-1] == '\\n':\n",
    "        word = line[ix+1:-1]\n",
    "    else:\n",
    "        word = line[ix+1:]\n",
    "    return (word, offset)"
   ]
  },
  {
   "cell_type": "code",
   "execution_count": 35,
   "metadata": {
    "collapsed": true
   },
   "outputs": [],
   "source": [
    "def add_to_trie(trie, offset_trie, key, value):\n",
    "    offset = int(value)\n",
    "    if key in trie:\n",
    "        existing = trie[key]\n",
    "        if value not in existing:\n",
    "            existing.append(offset)\n",
    "            existing.sort()\n",
    "    else:\n",
    "        trie[key] = [ offset, ]\n",
    "    \n",
    "    if value in offset_trie:\n",
    "        existing = offset_trie[value]\n",
    "        if key not in existing:\n",
    "            existing.append(key)\n",
    "            existing.sort()\n",
    "    else:\n",
    "        offset_trie[value] = [ key, ]\n",
    "    \n",
    "    lower_value = key.lower()\n",
    "    if lower_value == value:\n",
    "        return\n",
    "\n",
    "    if lower_value not in trie:\n",
    "        trie[lower_value] = [ -offset, ]"
   ]
  },
  {
   "cell_type": "code",
   "execution_count": 36,
   "metadata": {
    "collapsed": true
   },
   "outputs": [],
   "source": [
    "def add_word(line):\n",
    "    (word, offset) = convert_word(line)\n",
    "    add_to_trie(titles_trie, titles_offset_trie, word, offset)"
   ]
  },
  {
   "cell_type": "code",
   "execution_count": 37,
   "metadata": {
    "collapsed": true
   },
   "outputs": [],
   "source": [
    "failed = []"
   ]
  },
  {
   "cell_type": "code",
   "execution_count": 38,
   "metadata": {
    "collapsed": false
   },
   "outputs": [],
   "source": [
    "max_failed = 10\n",
    "with open('titles.tsv', 'rb') as f:\n",
    "    for bytes_line in f:\n",
    "        try:\n",
    "            line = bytes_line.decode('utf-8', 'replace')\n",
    "            add_word(line)\n",
    "        except Exception as e:\n",
    "            failed.append((e, line))\n",
    "            if len(failed) >= max_failed:\n",
    "                raise"
   ]
  },
  {
   "cell_type": "code",
   "execution_count": 39,
   "metadata": {
    "collapsed": true
   },
   "outputs": [],
   "source": [
    "titles_trie.save('titles.trie')"
   ]
  },
  {
   "cell_type": "code",
   "execution_count": 40,
   "metadata": {
    "collapsed": true
   },
   "outputs": [],
   "source": [
    "titles_offset_trie.save('titles_by_offset.trie')"
   ]
  },
  {
   "cell_type": "code",
   "execution_count": 18,
   "metadata": {
    "collapsed": true
   },
   "outputs": [],
   "source": [
    "failed = None"
   ]
  },
  {
   "cell_type": "code",
   "execution_count": 41,
   "metadata": {
    "collapsed": false
   },
   "outputs": [
    {
     "data": {
      "text/plain": [
       "0"
      ]
     },
     "execution_count": 41,
     "metadata": {},
     "output_type": "execute_result"
    }
   ],
   "source": [
    "len(failed)"
   ]
  },
  {
   "cell_type": "code",
   "execution_count": 42,
   "metadata": {
    "collapsed": false
   },
   "outputs": [
    {
     "data": {
      "text/plain": [
       "27962169"
      ]
     },
     "execution_count": 42,
     "metadata": {},
     "output_type": "execute_result"
    }
   ],
   "source": [
    "len(titles_trie)"
   ]
  },
  {
   "cell_type": "code",
   "execution_count": null,
   "metadata": {
    "collapsed": true
   },
   "outputs": [],
   "source": [
    "!conda install numpy"
   ]
  },
  {
   "cell_type": "code",
   "execution_count": 6,
   "metadata": {
    "collapsed": false
   },
   "outputs": [],
   "source": [
    "import numpy as np"
   ]
  },
  {
   "cell_type": "code",
   "execution_count": 7,
   "metadata": {
    "collapsed": true
   },
   "outputs": [],
   "source": [
    "titles_offset = datrie.Trie.load('titles_by_offset.trie')"
   ]
  },
  {
   "cell_type": "code",
   "execution_count": 10,
   "metadata": {
    "collapsed": true
   },
   "outputs": [],
   "source": [
    "titles_trie = datrie.Trie.load('titles.trie')"
   ]
  },
  {
   "cell_type": "code",
   "execution_count": 11,
   "metadata": {
    "collapsed": false
   },
   "outputs": [
    {
     "data": {
      "text/plain": [
       "15271374"
      ]
     },
     "execution_count": 11,
     "metadata": {},
     "output_type": "execute_result"
    }
   ],
   "source": [
    "len(titles_offset)"
   ]
  },
  {
   "cell_type": "code",
   "execution_count": null,
   "metadata": {
    "collapsed": true
   },
   "outputs": [],
   "source": []
  },
  {
   "cell_type": "code",
   "execution_count": 9,
   "metadata": {
    "collapsed": false
   },
   "outputs": [
    {
     "name": "stdout",
     "output_type": "stream",
     "text": [
      "The slowest run took 98.87 times longer than the fastest. This could mean that an intermediate result is being cached \n",
      "10000000 loops, best of 3: 80.4 ns per loop\n"
     ]
    }
   ],
   "source": [
    "%timeit 'Python' in titles_offset"
   ]
  },
  {
   "cell_type": "code",
   "execution_count": 39,
   "metadata": {
    "collapsed": false
   },
   "outputs": [
    {
     "data": {
      "text/plain": [
       "0"
      ]
     },
     "execution_count": 39,
     "metadata": {},
     "output_type": "execute_result"
    }
   ],
   "source": [
    "len(titles_trie.prefixes(' (disambiguation)'))"
   ]
  },
  {
   "cell_type": "code",
   "execution_count": 54,
   "metadata": {
    "collapsed": false
   },
   "outputs": [
    {
     "data": {
      "text/plain": [
       "[('Python', [33919833364]),\n",
       " ('Python (Asterophis) tigris', [20455085613]),\n",
       " ('Python (Busch Gardens Tampa Bay)', [14147158870]),\n",
       " ('Python (Coney Island)', [49590305361]),\n",
       " ('Python (Coney Island, Cincinnati, Ohio)', [26110321609]),\n",
       " ('Python (Coney island)', [26110331669]),\n",
       " ('Python (Coney island,Cincinnati, Ohio)', [26110350476]),\n",
       " ('Python (Efteling)', [18631684627]),\n",
       " ('Python (Geographic range)', [26538791922]),\n",
       " ('Python (Greek mythology)', [10394169050]),\n",
       " ('Python (Monty)', [8734521746]),\n",
       " ('Python (Monty) Pictures', [20062064793]),\n",
       " ('Python (Programming Language)', [33053541377]),\n",
       " ('Python (automobile maker)', [9559978406]),\n",
       " ('Python (computer language)', [26034782009]),\n",
       " ('Python (computing)', [41806032476]),\n",
       " ('Python (disambiguation)', [33919839039]),\n",
       " ('Python (film)', [4228420425]),\n",
       " ('Python (genus)', [12243555802]),\n",
       " ('Python (lang)', [21890868716]),\n",
       " ('Python (language)', [4151314363]),\n",
       " ('Python (missile)', [2808088550]),\n",
       " ('Python (movie)', [8565470739]),\n",
       " ('Python (mythical)', [1240426303]),\n",
       " ('Python (mythology)', [1111865827]),\n",
       " ('Python (nuclear primary)', [11924955810]),\n",
       " ('Python (programming language)', [414511238]),\n",
       " ('Python (programming)', [24264799313]),\n",
       " ('Python (roller coaster)', [40113964061]),\n",
       " ('Python (scripting language)', [21022039012]),\n",
       " ('Python (snake)', [7519329452]),\n",
       " ('Python (software)', [29228767140]),\n",
       " ('Python (zoology)', [10394168423]),\n",
       " ('Python 2', [46726557898]),\n",
       " ('Python 3', [12368234331]),\n",
       " ('Python 3.0', [12368321512]),\n",
       " ('Python 3000', [12368320100]),\n",
       " ('Python 3K', [20507041775]),\n",
       " ('Python 3k', [14059027308]),\n",
       " ('Python 4', [12369867830]),\n",
       " ('Python 5', [8689018589]),\n",
       " ('Python Anghelo', [26014697888]),\n",
       " ('Python Automobile', [18706774094]),\n",
       " ('Python Conference', [43073637603]),\n",
       " ('Python Dev Kit', [16463719078]),\n",
       " ('Python Enhancement Proposal', [11276961542]),\n",
       " ('Python God', [48586595674]),\n",
       " ('Python Hunters', [40015147816]),\n",
       " ('Python IDE', [27227516969]),\n",
       " ('Python II', [43011828523]),\n",
       " ('Python IV', [26043975215]),\n",
       " ('Python Image Library', [43861884981]),\n",
       " ('Python Imaging Library', [8020477425]),\n",
       " ('Python Lee Jackson', [8482925351]),\n",
       " ('Python License', [12442005847]),\n",
       " ('Python Minefield Breaching System', [32809211630]),\n",
       " ('Python Night - 30 Years of Monty Python', [32337487867]),\n",
       " ('Python Package Index', [30904526778]),\n",
       " ('Python Package Manager', [31748848349]),\n",
       " ('Python Paste', [17935389488]),\n",
       " ('Python Patrol', [15080076329]),\n",
       " ('Python Philosophy', [20326242023]),\n",
       " ('Python Pictures Limited', [35787539718]),\n",
       " ('Python Programming', [16076051589]),\n",
       " ('Python Programming Language', [7073548507]),\n",
       " ('Python Programming Language language', [9487424525]),\n",
       " ('Python Project Index', [34437419719]),\n",
       " ('Python Robotics', [25570778453]),\n",
       " ('Python SCOOP (software)', [43973144302]),\n",
       " ('Python Server Pages', [28563038563]),\n",
       " ('Python Service Objects', [7002390134]),\n",
       " ('Python Software Activity', [48575904572]),\n",
       " ('Python Software Foundation', [4388827238]),\n",
       " ('Python Software Foundation License', [10477159466]),\n",
       " ('Python Software Society of India', [50610923736]),\n",
       " ('Python Tools for Visual Studio', [39647557889]),\n",
       " ('Python Twisted', [19130685515]),\n",
       " ('Python amethistinus', [20531570086]),\n",
       " ('Python amethystinus', [20531499016]),\n",
       " ('Python anchietae', [20570965703]),\n",
       " ('Python bellii', [20451773332]),\n",
       " ('Python bivittatus', [45676582475]),\n",
       " ('Python boeleni', [20537433368]),\n",
       " ('Python bora', [20455041730]),\n",
       " ('Python bredli', [20418197918]),\n",
       " ('Python breitensteini', [20243270239]),\n",
       " ('Python brongersmai', [20239428814]),\n",
       " ('Python carinatus', [20537635077]),\n",
       " ('Python code', [26934487397]),\n",
       " ('Python compiler', [37212403982]),\n",
       " ('Python compiler (disambiguation)', [41809200159]),\n",
       " ('Python comprehension', [50914625717]),\n",
       " ('Python computer language', [5000621419]),\n",
       " ('Python curtus', [8448092823]),\n",
       " ('Python curtus breitensteini', [50551411490]),\n",
       " ('Python curtus brongersmai', [20243166364]),\n",
       " ('Python curtus curtus', [20434409134]),\n",
       " ('Python decorator', [41956038744]),\n",
       " ('Python egg', [46041825488]),\n",
       " ('Python eggs', [30904617703]),\n",
       " ('Python europaeus', [42473051522]),\n",
       " ('Python for S60', [25624681862]),\n",
       " ('Python for S60 (PyS60)', [27002412034]),\n",
       " ('Python for Symbian', [36912290499]),\n",
       " ('Python houttuyni', [20447371162]),\n",
       " ('Python implementations', [41831002022]),\n",
       " ('Python jamesonii', [20455074476]),\n",
       " ('Python javanicus', [20455070931]),\n",
       " ('Python jubalis', [20447395753]),\n",
       " ('Python language', [1979223594]),\n",
       " ('Python liberiensis', [20447379123]),\n",
       " ('Python license', [41411101257]),\n",
       " ('Python minefield breaching system', [32809438707]),\n",
       " ('Python missile', [16573355938]),\n",
       " ('Python molurus', [7739138215]),\n",
       " ('Python molurus bivittatus', [7486598914]),\n",
       " ('Python molurus intermedia', [20455095223]),\n",
       " ('Python molurus molurus', [15226387882]),\n",
       " ('Python molurus ocellatus', [20455086247]),\n",
       " ('Python molurus pimbura', [20455105954]),\n",
       " ('Python natalensis', [20571684275]),\n",
       " ('Python oenpelliensis', [20537845907]),\n",
       " ('Python of Aenus', [17064269346]),\n",
       " ('Python of Byzantium', [22168851005]),\n",
       " ('Python of Catana', [30320244455]),\n",
       " ('Python ordinatus', [20455055256]),\n",
       " ('Python peronii', [20524614364]),\n",
       " ('Python philosophy', [21023321641]),\n",
       " ('Python primary', [50382169032]),\n",
       " ('Python prog', [13362626808]),\n",
       " ('Python programming', [19540994546]),\n",
       " ('Python programming language', [14462182122]),\n",
       " ('Python punctatus', [20524608423]),\n",
       " ('Python regius', [2578119110]),\n",
       " ('Python requests', [51232796452]),\n",
       " ('Python reticulatus', [1150334096]),\n",
       " ('Python reticulatus reticulatus', [43558977538]),\n",
       " ('Python saxuloides', [20447400047]),\n",
       " ('Python schneideri', [20437462948]),\n",
       " ('Python script', [43548730181]),\n",
       " ('Python scripting language', [26948423047]),\n",
       " ('Python sebae', [12578620724]),\n",
       " ('Python sebae natalensis', [39201244261]),\n",
       " ('Python sebae sebae', [20447402000]),\n",
       " ('Python skin', [45346144753]),\n",
       " ('Python snake', [27943411007]),\n",
       " ('Python software', [25538132436]),\n",
       " ('Python spilotes', [20524616822]),\n",
       " ('Python spilotes macrospila', [20524633531]),\n",
       " ('Python spilotes spilotes', [20524632222]),\n",
       " ('Python spilotus spilotus', [20524648264]),\n",
       " ('Python spilotus variegatus', [22152463091]),\n",
       " ('Python syntax', [14512155355]),\n",
       " ('Python syntax and semantics', [12632965086]),\n",
       " ('Python tigris', [20455043647]),\n",
       " ('Python tigris albanicus', [20455053941]),\n",
       " ('Python tigris castaneus', [20455049543]),\n",
       " ('Python timorensis', [20571317367]),\n",
       " ('Python timoriensis', [20571284723]),\n",
       " ('Python tree', [29679570455]),\n",
       " ('Python viridis', [20544249961]),\n",
       " ('Python-Ogre', [13976111278]),\n",
       " ('Python-newt', [14677257971]),\n",
       " ('Python2', [38796543497]),\n",
       " ('Python3', [38796544824]),\n",
       " ('Python3000', [19491024537]),\n",
       " ('PythonAnywhere', [44711550567]),\n",
       " ('PythonIDE', [51628270667]),\n",
       " ('PythonLanguage', [2162722010]),\n",
       " ('PythonMOO', [9573117275]),\n",
       " ('PythonMagick', [4257591184]),\n",
       " ('PythonScript', [43550799576]),\n",
       " ('Pythona', [15072134023]),\n",
       " ('Pythonaster', [50559499253]),\n",
       " ('Pythonella', [41734819342]),\n",
       " ('Pythones', [20521884570]),\n",
       " ('Pythonesque', [7087136417]),\n",
       " ('Pythonesque (play)', [32098725078]),\n",
       " ('Pythoness', [7255625659]),\n",
       " ('Pythonic', [11605569766]),\n",
       " ('Pythonichthys', [39163000693]),\n",
       " ('Pythonichthys asodes', [45387288383]),\n",
       " ('Pythonichthys macrurus', [45387454008]),\n",
       " ('Pythonichthys microphthalmus', [45398001357]),\n",
       " ('Pythonichthys sanguineus', [45398193860]),\n",
       " ('Pythonidae', [403674549]),\n",
       " ('Pythonides', [20521881997]),\n",
       " ('Pythonides cerberus', [44610133790]),\n",
       " ('Pythonides cerialis', [44610132563]),\n",
       " ('Pythoniens', [20521872989]),\n",
       " ('Pythonina', [20521871757]),\n",
       " ('Pythoninae', [12165868300]),\n",
       " ('Pythonini', [20521896386]),\n",
       " ('Pythonista', [6430736971]),\n",
       " ('Pythonistas', [6817720710]),\n",
       " ('Pythonite', [802192427]),\n",
       " ('Pythonium', [50150128883]),\n",
       " ('Pythonoidea', [20521867989]),\n",
       " ('Pythonoidei', [20521869903]),\n",
       " ('Pythonomorpha', [12049481114]),\n",
       " ('Pythons', [3440797447]),\n",
       " ('Pythons (album)', [46320788464]),\n",
       " ('Pythons 2', [35484684967])]"
      ]
     },
     "execution_count": 54,
     "metadata": {},
     "output_type": "execute_result"
    }
   ],
   "source": [
    "titles_trie.items('Python')"
   ]
  },
  {
   "cell_type": "code",
   "execution_count": 14,
   "metadata": {
    "collapsed": false
   },
   "outputs": [],
   "source": [
    "offsets = titles_offset.items('339198')"
   ]
  },
  {
   "cell_type": "code",
   "execution_count": 68,
   "metadata": {
    "collapsed": false
   },
   "outputs": [],
   "source": [
    "offsets_list = [ np.uint64(a[0]) for a in titles_offset.items() ]"
   ]
  },
  {
   "cell_type": "code",
   "execution_count": 26,
   "metadata": {
    "collapsed": true
   },
   "outputs": [],
   "source": [
    "a = np.array(offsets, dtype=np.uint64)"
   ]
  },
  {
   "cell_type": "code",
   "execution_count": 40,
   "metadata": {
    "collapsed": false
   },
   "outputs": [
    {
     "data": {
      "text/plain": [
       "15271374"
      ]
     },
     "execution_count": 40,
     "metadata": {},
     "output_type": "execute_result"
    }
   ],
   "source": [
    "len(a)"
   ]
  },
  {
   "cell_type": "code",
   "execution_count": 29,
   "metadata": {
    "collapsed": false
   },
   "outputs": [],
   "source": [
    "np.save('titles_offsets.npy', a)"
   ]
  },
  {
   "cell_type": "code",
   "execution_count": 35,
   "metadata": {
    "collapsed": false
   },
   "outputs": [
    {
     "name": "stdout",
     "output_type": "stream",
     "text": [
      "The slowest run took 26.55 times longer than the fastest. This could mean that an intermediate result is being cached \n",
      "1000000 loops, best of 3: 1.17 µs per loop\n"
     ]
    }
   ],
   "source": [
    "%timeit np.searchsorted(a, np.uint64(33919833364), side='left')"
   ]
  },
  {
   "cell_type": "code",
   "execution_count": 42,
   "metadata": {
    "collapsed": false
   },
   "outputs": [
    {
     "data": {
      "text/plain": [
       "7763814"
      ]
     },
     "execution_count": 42,
     "metadata": {},
     "output_type": "execute_result"
    }
   ],
   "source": [
    "np.searchsorted(a, np.uint64(33919833364), side='left')"
   ]
  },
  {
   "cell_type": "code",
   "execution_count": 32,
   "metadata": {
    "collapsed": false
   },
   "outputs": [
    {
     "data": {
      "text/plain": [
       "7763815"
      ]
     },
     "execution_count": 32,
     "metadata": {},
     "output_type": "execute_result"
    }
   ],
   "source": [
    "np.searchsorted(a, np.uint64(33919833364), side='right')"
   ]
  },
  {
   "cell_type": "code",
   "execution_count": 34,
   "metadata": {
    "collapsed": false
   },
   "outputs": [
    {
     "data": {
      "text/plain": [
       "33919832665"
      ]
     },
     "execution_count": 34,
     "metadata": {},
     "output_type": "execute_result"
    }
   ],
   "source": [
    "a[7763813]"
   ]
  },
  {
   "cell_type": "code",
   "execution_count": 25,
   "metadata": {
    "collapsed": false
   },
   "outputs": [
    {
     "data": {
      "text/plain": [
       "15271374"
      ]
     },
     "execution_count": 25,
     "metadata": {},
     "output_type": "execute_result"
    }
   ],
   "source": [
    "len(offsets)"
   ]
  },
  {
   "cell_type": "code",
   "execution_count": 21,
   "metadata": {
    "collapsed": false
   },
   "outputs": [],
   "source": [
    "a = np.array(offsets, dtype=np.uint64)"
   ]
  },
  {
   "cell_type": "code",
   "execution_count": null,
   "metadata": {
    "collapsed": true
   },
   "outputs": [],
   "source": []
  },
  {
   "cell_type": "code",
   "execution_count": 23,
   "metadata": {
    "collapsed": false
   },
   "outputs": [
    {
     "ename": "TypeError",
     "evalue": "int() argument must be a string, a bytes-like object or a number, not 'generator'",
     "output_type": "error",
     "traceback": [
      "\u001b[1;31m---------------------------------------------------------------------------\u001b[0m",
      "\u001b[1;31mTypeError\u001b[0m                                 Traceback (most recent call last)",
      "\u001b[1;32m<ipython-input-23-2dbff42826be>\u001b[0m in \u001b[0;36m<module>\u001b[1;34m()\u001b[0m\n\u001b[1;32m----> 1\u001b[1;33m \u001b[0mb\u001b[0m \u001b[1;33m=\u001b[0m \u001b[0mnp\u001b[0m\u001b[1;33m.\u001b[0m\u001b[0marray\u001b[0m\u001b[1;33m(\u001b[0m\u001b[1;33m(\u001b[0m\u001b[0ma\u001b[0m\u001b[1;33m[\u001b[0m\u001b[1;36m0\u001b[0m\u001b[1;33m]\u001b[0m \u001b[1;32mfor\u001b[0m \u001b[0ma\u001b[0m \u001b[1;32min\u001b[0m \u001b[0mtitles_offset\u001b[0m\u001b[1;33m.\u001b[0m\u001b[0mitems\u001b[0m\u001b[1;33m(\u001b[0m\u001b[1;33m)\u001b[0m\u001b[1;33m)\u001b[0m\u001b[1;33m,\u001b[0m \u001b[0mdtype\u001b[0m\u001b[1;33m=\u001b[0m\u001b[0mnp\u001b[0m\u001b[1;33m.\u001b[0m\u001b[0muint64\u001b[0m\u001b[1;33m)\u001b[0m\u001b[1;33m\u001b[0m\u001b[0m\n\u001b[0m",
      "\u001b[1;31mTypeError\u001b[0m: int() argument must be a string, a bytes-like object or a number, not 'generator'"
     ]
    }
   ],
   "source": [
    "b = np.array((a[0] for a in titles_offset.items()), dtype=np.uint64)"
   ]
  },
  {
   "cell_type": "code",
   "execution_count": 15,
   "metadata": {
    "collapsed": false
   },
   "outputs": [
    {
     "data": {
      "text/plain": [
       "47"
      ]
     },
     "execution_count": 15,
     "metadata": {},
     "output_type": "execute_result"
    }
   ],
   "source": [
    "len(offsets)"
   ]
  },
  {
   "cell_type": "code",
   "execution_count": 29,
   "metadata": {
    "collapsed": false
   },
   "outputs": [
    {
     "data": {
      "text/plain": [
       "(TypeError('unorderable types: int() < tuple()'),\n",
       " '886354688\\t1911 encyclopedia\\n')"
      ]
     },
     "execution_count": 29,
     "metadata": {},
     "output_type": "execute_result"
    }
   ],
   "source": [
    "failed[0]"
   ]
  },
  {
   "cell_type": "code",
   "execution_count": 45,
   "metadata": {
    "collapsed": true
   },
   "outputs": [],
   "source": [
    "words.save('words.trie')"
   ]
  },
  {
   "cell_type": "code",
   "execution_count": 46,
   "metadata": {
    "collapsed": true
   },
   "outputs": [],
   "source": [
    "offset_to_words.save('words_by_offset.trie')"
   ]
  },
  {
   "cell_type": "code",
   "execution_count": 47,
   "metadata": {
    "collapsed": false
   },
   "outputs": [
    {
     "name": "stdout",
     "output_type": "stream",
     "text": [
      "1 loops, best of 3: 1.95 s per loop\n"
     ]
    }
   ],
   "source": [
    "%timeit datrie.Trie.load('words.trie')"
   ]
  },
  {
   "cell_type": "code",
   "execution_count": 48,
   "metadata": {
    "collapsed": false
   },
   "outputs": [
    {
     "data": {
      "text/plain": [
       "['A',\n",
       " 'Aani',\n",
       " 'Aaron',\n",
       " 'Aaronic',\n",
       " 'Aaronical',\n",
       " 'Aaronite',\n",
       " 'Aaronitic',\n",
       " 'Aaru',\n",
       " 'Ab',\n",
       " 'Ababdeh']"
      ]
     },
     "execution_count": 48,
     "metadata": {},
     "output_type": "execute_result"
    }
   ],
   "source": [
    "words.keys()[:10]"
   ]
  },
  {
   "cell_type": "code",
   "execution_count": 35,
   "metadata": {
    "collapsed": false
   },
   "outputs": [
    {
     "name": "stdout",
     "output_type": "stream",
     "text": [
      "The slowest run took 18.40 times longer than the fastest. This could mean that an intermediate result is being cached \n",
      "1000000 loops, best of 3: 195 ns per loop\n"
     ]
    }
   ],
   "source": [
    "%timeit words.prefixes('aaron')"
   ]
  },
  {
   "cell_type": "code",
   "execution_count": 44,
   "metadata": {
    "collapsed": false
   },
   "outputs": [
    {
     "name": "stdout",
     "output_type": "stream",
     "text": [
      "The slowest run took 21.18 times longer than the fastest. This could mean that an intermediate result is being cached \n",
      "10000000 loops, best of 3: 109 ns per loop\n"
     ]
    }
   ],
   "source": [
    "%timeit words['aaron']"
   ]
  },
  {
   "cell_type": "code",
   "execution_count": 47,
   "metadata": {
    "collapsed": false
   },
   "outputs": [
    {
     "data": {
      "text/plain": [
       "['ron']"
      ]
     },
     "execution_count": 47,
     "metadata": {},
     "output_type": "execute_result"
    }
   ],
   "source": [
    "words.suffixes('Aa')"
   ]
  },
  {
   "cell_type": "code",
   "execution_count": 49,
   "metadata": {
    "collapsed": false
   },
   "outputs": [
    {
     "data": {
      "text/plain": [
       "[('aaron', [44])]"
      ]
     },
     "execution_count": 49,
     "metadata": {},
     "output_type": "execute_result"
    }
   ],
   "source": [
    "words.items('aa')"
   ]
  },
  {
   "cell_type": "code",
   "execution_count": 55,
   "metadata": {
    "collapsed": true
   },
   "outputs": [],
   "source": [
    "def get_enclosing_offsets(o, offsets):\n",
    "    ix = np.searchsorted(offsets, np.uint64(o), side='left')\n",
    "    return (offsets[ix-1], offsets[ix+1])\n",
    "    "
   ]
  },
  {
   "cell_type": "code",
   "execution_count": 18,
   "metadata": {
    "collapsed": true
   },
   "outputs": [],
   "source": [
    "def get_enclosing_offsets2(o, offsets):\n",
    "    ix = offsets.searchsorted(np.uint64(o), side='right')\n",
    "    return (o-7, int(offsets[ix]-np.uint64(8)))"
   ]
  },
  {
   "cell_type": "code",
   "execution_count": 11,
   "metadata": {
    "collapsed": true
   },
   "outputs": [],
   "source": [
    "import numpy as np"
   ]
  },
  {
   "cell_type": "code",
   "execution_count": 15,
   "metadata": {
    "collapsed": false
   },
   "outputs": [
    {
     "name": "stdout",
     "output_type": "stream",
     "text": [
      "d:\\data\n"
     ]
    }
   ],
   "source": [
    "!cd"
   ]
  },
  {
   "cell_type": "code",
   "execution_count": 16,
   "metadata": {
    "collapsed": false
   },
   "outputs": [],
   "source": [
    "offsets = np.load('titles_offsets3.npy', mmap_mode=None)"
   ]
  },
  {
   "cell_type": "code",
   "execution_count": 17,
   "metadata": {
    "collapsed": false
   },
   "outputs": [
    {
     "data": {
      "text/plain": [
       "dtype('uint64')"
      ]
     },
     "execution_count": 17,
     "metadata": {},
     "output_type": "execute_result"
    }
   ],
   "source": [
    "offsets.dtype"
   ]
  },
  {
   "cell_type": "code",
   "execution_count": 45,
   "metadata": {
    "collapsed": true
   },
   "outputs": [],
   "source": [
    "titles = titles_trie"
   ]
  },
  {
   "cell_type": "code",
   "execution_count": 47,
   "metadata": {
    "collapsed": false
   },
   "outputs": [
    {
     "name": "stdout",
     "output_type": "stream",
     "text": [
      "The slowest run took 57.90 times longer than the fastest. This could mean that an intermediate result is being cached \n",
      "1000000 loops, best of 3: 129 ns per loop\n"
     ]
    }
   ],
   "source": [
    "%timeit titles['Python']"
   ]
  },
  {
   "cell_type": "code",
   "execution_count": 48,
   "metadata": {
    "collapsed": false
   },
   "outputs": [
    {
     "data": {
      "text/plain": [
       "[33919833364]"
      ]
     },
     "execution_count": 48,
     "metadata": {},
     "output_type": "execute_result"
    }
   ],
   "source": [
    "titles['Python']"
   ]
  },
  {
   "cell_type": "code",
   "execution_count": 49,
   "metadata": {
    "collapsed": true
   },
   "outputs": [],
   "source": [
    "offsets.sort()"
   ]
  },
  {
   "cell_type": "code",
   "execution_count": 50,
   "metadata": {
    "collapsed": true
   },
   "outputs": [],
   "source": [
    "sorted_offsets = np.sort(offsets)"
   ]
  },
  {
   "cell_type": "code",
   "execution_count": 51,
   "metadata": {
    "collapsed": false
   },
   "outputs": [
    {
     "data": {
      "text/plain": [
       "15271374"
      ]
     },
     "execution_count": 51,
     "metadata": {},
     "output_type": "execute_result"
    }
   ],
   "source": [
    "len(sorted_offsets)"
   ]
  },
  {
   "cell_type": "code",
   "execution_count": 52,
   "metadata": {
    "collapsed": true
   },
   "outputs": [],
   "source": [
    "old_offsets = offsets"
   ]
  },
  {
   "cell_type": "code",
   "execution_count": 53,
   "metadata": {
    "collapsed": true
   },
   "outputs": [],
   "source": [
    "offsets = sorted_offsets"
   ]
  },
  {
   "cell_type": "code",
   "execution_count": 54,
   "metadata": {
    "collapsed": true
   },
   "outputs": [],
   "source": [
    "np.save('titles_offsets.npy', offsets)"
   ]
  },
  {
   "cell_type": "code",
   "execution_count": 59,
   "metadata": {
    "collapsed": false
   },
   "outputs": [],
   "source": [
    "x = get_enclosing_offsets(titles['Python'][0], offsets)"
   ]
  },
  {
   "cell_type": "code",
   "execution_count": 61,
   "metadata": {
    "collapsed": false
   },
   "outputs": [
    {
     "data": {
      "text/plain": [
       "numpy.str_"
      ]
     },
     "execution_count": 61,
     "metadata": {},
     "output_type": "execute_result"
    }
   ],
   "source": [
    "type(x[0])"
   ]
  },
  {
   "cell_type": "code",
   "execution_count": 66,
   "metadata": {
    "collapsed": false
   },
   "outputs": [
    {
     "name": "stdout",
     "output_type": "stream",
     "text": [
      "1 loops, best of 3: 473 ms per loop\n"
     ]
    }
   ],
   "source": [
    "%timeit offsets.searchsorted(np.uint64(33919833364))"
   ]
  },
  {
   "cell_type": "code",
   "execution_count": 67,
   "metadata": {
    "collapsed": false
   },
   "outputs": [
    {
     "data": {
      "text/plain": [
       "list"
      ]
     },
     "execution_count": 67,
     "metadata": {},
     "output_type": "execute_result"
    }
   ],
   "source": [
    "type(old_offsets)"
   ]
  },
  {
   "cell_type": "code",
   "execution_count": 69,
   "metadata": {
    "collapsed": true
   },
   "outputs": [],
   "source": [
    "offsets = None"
   ]
  },
  {
   "cell_type": "code",
   "execution_count": 1,
   "metadata": {
    "collapsed": true
   },
   "outputs": [],
   "source": [
    "txt = \"\"\"  <page>\n",
    "    <title>Python</title>\"\"\""
   ]
  },
  {
   "cell_type": "code",
   "execution_count": 6,
   "metadata": {
    "collapsed": false
   },
   "outputs": [
    {
     "ename": "AttributeError",
     "evalue": "'str' object has no attribute 'findall'",
     "output_type": "error",
     "traceback": [
      "\u001b[1;31m---------------------------------------------------------------------------\u001b[0m",
      "\u001b[1;31mAttributeError\u001b[0m                            Traceback (most recent call last)",
      "\u001b[1;32m<ipython-input-6-64e093262bac>\u001b[0m in \u001b[0;36m<module>\u001b[1;34m()\u001b[0m\n\u001b[1;32m----> 1\u001b[1;33m \u001b[0mtxt\u001b[0m\u001b[1;33m.\u001b[0m\u001b[0mfindall\u001b[0m\u001b[1;33m(\u001b[0m\u001b[1;34m'<'\u001b[0m\u001b[1;33m)\u001b[0m\u001b[1;33m\u001b[0m\u001b[0m\n\u001b[0m",
      "\u001b[1;31mAttributeError\u001b[0m: 'str' object has no attribute 'findall'"
     ]
    }
   ],
   "source": [
    "txt.find('<')"
   ]
  },
  {
   "cell_type": "code",
   "execution_count": 3,
   "metadata": {
    "collapsed": false
   },
   "outputs": [
    {
     "ename": "NameError",
     "evalue": "name 'titles' is not defined",
     "output_type": "error",
     "traceback": [
      "\u001b[1;31m---------------------------------------------------------------------------\u001b[0m",
      "\u001b[1;31mNameError\u001b[0m                                 Traceback (most recent call last)",
      "\u001b[1;32m<ipython-input-3-96994b355df3>\u001b[0m in \u001b[0;36m<module>\u001b[1;34m()\u001b[0m\n\u001b[1;32m----> 1\u001b[1;33m \u001b[0mtitles\u001b[0m\u001b[1;33m[\u001b[0m\u001b[1;34m'Python'\u001b[0m\u001b[1;33m]\u001b[0m\u001b[1;33m\u001b[0m\u001b[0m\n\u001b[0m",
      "\u001b[1;31mNameError\u001b[0m: name 'titles' is not defined"
     ]
    }
   ],
   "source": [
    "titles['Python']"
   ]
  },
  {
   "cell_type": "code",
   "execution_count": 4,
   "metadata": {
    "collapsed": false
   },
   "outputs": [
    {
     "data": {
      "text/plain": [
       "33919833344"
      ]
     },
     "execution_count": 4,
     "metadata": {},
     "output_type": "execute_result"
    }
   ],
   "source": [
    "33919833364-20"
   ]
  },
  {
   "cell_type": "code",
   "execution_count": 7,
   "metadata": {
    "collapsed": false
   },
   "outputs": [
    {
     "data": {
      "text/plain": [
       "33919833364"
      ]
     },
     "execution_count": 7,
     "metadata": {},
     "output_type": "execute_result"
    }
   ],
   "source": [
    "33919833364"
   ]
  },
  {
   "cell_type": "code",
   "execution_count": 38,
   "metadata": {
    "collapsed": true
   },
   "outputs": [],
   "source": []
  },
  {
   "cell_type": "code",
   "execution_count": null,
   "metadata": {
    "collapsed": true
   },
   "outputs": [],
   "source": []
  },
  {
   "cell_type": "code",
   "execution_count": 19,
   "metadata": {
    "collapsed": true
   },
   "outputs": [],
   "source": []
  },
  {
   "cell_type": "code",
   "execution_count": 20,
   "metadata": {
    "collapsed": true
   },
   "outputs": [],
   "source": [
    "uint64_8 = np.uint64(8)"
   ]
  },
  {
   "cell_type": "code",
   "execution_count": 43,
   "metadata": {
    "collapsed": true
   },
   "outputs": [],
   "source": [
    "uint64_10 = uint64(10)\n",
    "uint64_11 = uint64(11)"
   ]
  },
  {
   "cell_type": "code",
   "execution_count": null,
   "metadata": {
    "collapsed": true
   },
   "outputs": [],
   "source": []
  },
  {
   "cell_type": "code",
   "execution_count": 48,
   "metadata": {
    "collapsed": true
   },
   "outputs": [],
   "source": [
    "from numpy import uint64\n",
    "uint64_7 = np.uint64(7)\n",
    "uint64_11 = uint64(11)\n",
    "def get_enclosing_offsets3(o):\n",
    "    ix = offsets.searchsorted(o, side='right')\n",
    "    return (int(o-uint64_7), int(offsets[ix]-uint64_11))"
   ]
  },
  {
   "cell_type": "code",
   "execution_count": 50,
   "metadata": {
    "collapsed": false
   },
   "outputs": [],
   "source": [
    "from numpy import uint64\n",
    "uint64_7 = np.uint64(7)\n",
    "uint64_11 = uint64(11)\n",
    "def get_enclosing_offsets4(o):\n",
    "    ix = offsets.searchsorted(o, side='right')\n",
    "    return (o-uint64_7, offsets[ix]-uint64_11)"
   ]
  },
  {
   "cell_type": "code",
   "execution_count": 52,
   "metadata": {
    "collapsed": false
   },
   "outputs": [
    {
     "name": "stdout",
     "output_type": "stream",
     "text": [
      "The slowest run took 11.40 times longer than the fastest. This could mean that an intermediate result is being cached \n",
      "1000000 loops, best of 3: 1.76 µs per loop\n"
     ]
    }
   ],
   "source": [
    "%timeit get_enclosing_offsets4(uint64(4388827238))"
   ]
  },
  {
   "cell_type": "code",
   "execution_count": 46,
   "metadata": {
    "collapsed": false
   },
   "outputs": [],
   "source": [
    "def offsets_to_range(pair):\n",
    "    return '-'.join([str(pair[0]), str(pair[1])])"
   ]
  },
  {
   "cell_type": "code",
   "execution_count": 54,
   "metadata": {
    "collapsed": false
   },
   "outputs": [
    {
     "name": "stdout",
     "output_type": "stream",
     "text": [
      "The slowest run took 14.67 times longer than the fastest. This could mean that an intermediate result is being cached \n",
      "100000 loops, best of 3: 6.56 µs per loop\n"
     ]
    }
   ],
   "source": [
    "%timeit offsets_to_range(get_enclosing_offsets4(uint64(4388827238)))"
   ]
  },
  {
   "cell_type": "code",
   "execution_count": 55,
   "metadata": {
    "collapsed": false
   },
   "outputs": [
    {
     "data": {
      "text/plain": [
       "'4388827231-4388830599'"
      ]
     },
     "execution_count": 55,
     "metadata": {},
     "output_type": "execute_result"
    }
   ],
   "source": [
    "offsets_to_range(get_enclosing_offsets4(uint64(4388827238)))"
   ]
  },
  {
   "cell_type": "code",
   "execution_count": 56,
   "metadata": {
    "collapsed": true
   },
   "outputs": [],
   "source": [
    "import datrie"
   ]
  },
  {
   "cell_type": "code",
   "execution_count": 57,
   "metadata": {
    "collapsed": true
   },
   "outputs": [],
   "source": [
    "small_trie = datrie.Trie.load('titles-1m.trie')"
   ]
  },
  {
   "cell_type": "code",
   "execution_count": 59,
   "metadata": {
    "collapsed": false,
    "scrolled": true
   },
   "outputs": [
    {
     "data": {
      "text/plain": [
       "['.Mac',\n",
       " '.Net',\n",
       " '.SPC',\n",
       " '.TV',\n",
       " '.am',\n",
       " '.au (domain name)',\n",
       " '.cd',\n",
       " '.com',\n",
       " '.eu',\n",
       " '.fm',\n",
       " '.hack (games)',\n",
       " '.hack (video game series)',\n",
       " '.hack//Sign',\n",
       " '.hack//sign',\n",
       " '.hack/sign',\n",
       " '.hk',\n",
       " '.mac',\n",
       " '.moe',\n",
       " '.mp3',\n",
       " '.net',\n",
       " '.nl',\n",
       " '.org',\n",
       " '.spc',\n",
       " '.tv',\n",
       " '/',\n",
       " '/.ed',\n",
       " '0 (number)',\n",
       " '0 Series Shinkansen',\n",
       " '0 series shinkansen',\n",
       " '0-9',\n",
       " '0.1km2',\n",
       " '0/1 knapsack problem',\n",
       " '007 (disambiguation)',\n",
       " '00s',\n",
       " '0X',\n",
       " '0s',\n",
       " '0s BC',\n",
       " '0s bc',\n",
       " '0x',\n",
       " '1',\n",
       " '1 (Beatles album)',\n",
       " '1 (New York City Subway service)',\n",
       " '1 (beatles album)',\n",
       " '1 (new york city subway service)',\n",
       " '1 (number)',\n",
       " '1 (the number)',\n",
       " '1 April',\n",
       " '1 August',\n",
       " '1 BC',\n",
       " '1 Chronicles',\n",
       " '1 Corinthians',\n",
       " '1 December',\n",
       " '1 E -1 kg',\n",
       " '1 E -1 m',\n",
       " '1 E -10 kg',\n",
       " '1 E -10 m',\n",
       " '1 E -11 kg',\n",
       " '1 E -11 m',\n",
       " '1 E -12 kg',\n",
       " '1 E -13 J',\n",
       " '1 E -13 kg',\n",
       " '1 E -13 m',\n",
       " '1 E -14 J',\n",
       " '1 E -14 kg',\n",
       " '1 E -15 kg',\n",
       " '1 E -15 m',\n",
       " '1 E -16 kg',\n",
       " '1 E -16 s',\n",
       " '1 E -17 kg',\n",
       " '1 E -18 kg',\n",
       " '1 E -19 kg',\n",
       " '1 E -2 kg',\n",
       " '1 E -2 m',\n",
       " '1 E -20 kg',\n",
       " '1 E -21 kg',\n",
       " '1 E -22 kg',\n",
       " '1 E -23 kg',\n",
       " '1 E -24 kg',\n",
       " '1 E -25 kg',\n",
       " '1 E -26 kg',\n",
       " '1 E -27 kg',\n",
       " '1 E -28 kg',\n",
       " '1 E -29 kg',\n",
       " '1 E -3 kg',\n",
       " '1 E -3 m',\n",
       " '1 E -30 kg',\n",
       " '1 E -31 kg',\n",
       " '1 E -35 m',\n",
       " '1 E -4 kg',\n",
       " '1 E -4 m',\n",
       " '1 E -43 s',\n",
       " '1 E -44 s',\n",
       " '1 E -5 kg',\n",
       " '1 E -5 m',\n",
       " '1 E -5 s',\n",
       " '1 E -6 kg',\n",
       " '1 E -6 m',\n",
       " '1 E -6 s',\n",
       " '1 E -7 kg',\n",
       " '1 E -7 m']"
      ]
     },
     "execution_count": 59,
     "metadata": {},
     "output_type": "execute_result"
    }
   ],
   "source": [
    "small_trie.keys()[100:200]"
   ]
  },
  {
   "cell_type": "code",
   "execution_count": 62,
   "metadata": {
    "collapsed": false
   },
   "outputs": [
    {
     "data": {
      "text/plain": [
       "['.hack (games)',\n",
       " '.hack (video game series)',\n",
       " '.hack//Sign',\n",
       " '.hack//sign',\n",
       " '.hack/sign']"
      ]
     },
     "execution_count": 62,
     "metadata": {},
     "output_type": "execute_result"
    }
   ],
   "source": [
    "small_trie.keys('.hack')"
   ]
  },
  {
   "cell_type": "code",
   "execution_count": 69,
   "metadata": {
    "collapsed": false
   },
   "outputs": [
    {
     "data": {
      "text/plain": [
       "[('Alph', [37796646]),\n",
       " ('Alpha', [9485835, 9485835, 9485835]),\n",
       " ('Alpha (disambiguation)', [1906473862]),\n",
       " ('Alpha 1-antitrypsin deficiency', [2767914001]),\n",
       " ('Alpha Arietis', [1110148856]),\n",
       " ('Alpha Blondy', [1123384012]),\n",
       " ('Alpha Centauri', [27211921]),\n",
       " ('Alpha Centauri A', [2190432187]),\n",
       " ('Alpha Centauri B', [2190432762]),\n",
       " ('Alpha Centauri computer game', [2315351167]),\n",
       " ('Alpha Centauri/Videogame', [1162750267]),\n",
       " ('Alpha Crucis', [1928475714]),\n",
       " ('Alpha Herculis', [1197049692]),\n",
       " ('Alpha centauri', [1889461987]),\n",
       " ('Alpha channel', [2286099071]),\n",
       " ('Alpha compositing', [28622449]),\n",
       " ('Alpha decay', [15317609, 15317609, 15317609]),\n",
       " ('Alpha emission', [898135668]),\n",
       " ('Alpha helix', [43805509]),\n",
       " ('Alpha process', [2268016863]),\n",
       " ('Alpha processor', [931824748]),\n",
       " ('Alpha radiation', [2080753887]),\n",
       " ('Alpha ray', [15039418, 15039418, 15039418]),\n",
       " ('Alpha receptor', [2884222826]),\n",
       " ('Alpha version', [2286985487]),\n",
       " ('Alpha, Illinois', [1363133034]),\n",
       " ('Alpha, Michigan', [1437482102]),\n",
       " ('Alpha, Minnesota', [1459342369]),\n",
       " ('Alpha, New Jersey', [1527807610]),\n",
       " ('Alpha-Amanitin', [2714304435]),\n",
       " ('Alpha-Ketoglutaric acid', [296064040]),\n",
       " ('Alpha-Linolenic acid', [1792338302]),\n",
       " ('Alpha-Methyltryptamine', [942742694]),\n",
       " ('Alpha-fetoprotein', [2390194869]),\n",
       " ('Alpha-particles', [987742771]),\n",
       " ('Alphabet', [3526115, 3526115, 3526115]),\n",
       " ('Alphabet City, Manhattan', [2112639816]),\n",
       " ('Alphabet Synthesis Machine', [2526490034]),\n",
       " ('Alphabet song', [40708797]),\n",
       " ('Alphabet transliteration', [670918668]),\n",
       " ('Alphabetical list of Quebec Rivers', [2842637576]),\n",
       " ('Alphabetical list of Rivers in the World', [2838533778]),\n",
       " ('Alphabetical list of airlines', [1268002708]),\n",
       " ('Alphabetical list of rivers in Canada', [2838444157]),\n",
       " ('Alphabetical list of rivers in the Americas', [2838533048]),\n",
       " ('Alphabets', [1804879519]),\n",
       " ('Alphaeus Philemon Cole', [2220305240]),\n",
       " ('Alphanumeric shellcode', [2272799343]),\n",
       " ('Alpharetta, Georgia', [1347684308]),\n",
       " ('Alphaville', [1705189242]),\n",
       " ('Alphaville (film)', [1705277436]),\n",
       " ('Alphen aan den Rijn', [1464335837]),\n",
       " ('Alphen-Chaam', [1445339243]),\n",
       " ('Alphesiboea', [1113134923]),\n",
       " ('Alpheus (mythology)', [1068938085]),\n",
       " ('Alphons', [22053945, 22053945, 22053945]),\n",
       " ('Alphons Egli', [1811183603]),\n",
       " ('Alphonse', [2750895983]),\n",
       " ('Alphonse Briart', [2347717526]),\n",
       " ('Alphonse Daudet', [1080274917]),\n",
       " ('Alphonse Desjardins', [2436130475]),\n",
       " ('Alphonse I', [2756058199]),\n",
       " ('Alphonse Legros', [2215107081]),\n",
       " ('Alphonse Mucha', [1271565343]),\n",
       " ('Alphonse Picou', [2240565736]),\n",
       " ('Alphonse V', [2623543372]),\n",
       " ('Alphonse de Lamartine', [1941205930]),\n",
       " ('Alphonse de Polignac', [744962810]),\n",
       " ('Alphonse, Count of Poitiers', [24966115, 24966115, 24966115]),\n",
       " ('Alphonso', [1869195960]),\n",
       " ('Alphonso D Albuquerque', [849735512]),\n",
       " ('Alphonso I', [1869354086]),\n",
       " ('Alphonso I of Portugal', [2750663177]),\n",
       " ('Alphonso I of Spain', [21890025, 21890025, 21890025]),\n",
       " ('Alphonso II', [1869353494]),\n",
       " ('Alphonso II of Aragon', [1869209081]),\n",
       " ('Alphonso II of Asturies', [1869182891]),\n",
       " ('Alphonso II of Portugal', [2750663816]),\n",
       " ('Alphonso II of Spain', [1735538780]),\n",
       " ('Alphonso III', [1869352883]),\n",
       " ('Alphonso III of Aragon', [1869304633]),\n",
       " ('Alphonso III of Leon', [1869183535]),\n",
       " ('Alphonso III of Portugal', [2750665694]),\n",
       " ('Alphonso IV', [1869354691]),\n",
       " ('Alphonso IV of Aragon', [1869305258]),\n",
       " ('Alphonso IV of Leon', [1869192692]),\n",
       " ('Alphonso IV of Portugal', [2750667642]),\n",
       " ('Alphonso IX', [22224716, 22224716, 22224716]),\n",
       " ('Alphonso IX of Castile', [1869351046]),\n",
       " ('Alphonso IX of Spain', [1869195223]),\n",
       " ('Alphonso Raymond of Castile', [2780947101]),\n",
       " ('Alphonso V', [1869355283]),\n",
       " ('Alphonso V of Aragon', [853469055]),\n",
       " ('Alphonso V of Castile', [1869193313]),\n",
       " ('Alphonso V of Portugal', [849736090]),\n",
       " ('Alphonso V of Spain', [853468489]),\n",
       " ('Alphonso VI', [1869355888]),\n",
       " ('Alphonso VI of Castile', [1869193882]),\n",
       " ('Alphonso VI of Portugal', [2750671101]),\n",
       " ('Alphonso VII', [22223470, 22223470, 22223470]),\n",
       " ('Alphonso VII of Castile', [1869194551]),\n",
       " ('Alphonso VIII', [22224129, 22224129, 22224129]),\n",
       " ('Alphonso VIII of Castile', [999378189]),\n",
       " ('Alphonso VIII of Spain', [21900195, 21900195, 21900195]),\n",
       " ('Alphonso X', [22225442, 22225442, 22225442]),\n",
       " ('Alphonso X of Castile', [1869196583]),\n",
       " ('Alphonso XI', [22226086, 22226086, 22226086]),\n",
       " ('Alphonso XI of Castile', [1869207788]),\n",
       " ('Alphonso XII', [22226733, 22226733, 22226733]),\n",
       " ('Alphonso XII of Spain', [1869182253]),\n",
       " ('Alphonso XIII', [22227297, 22227297, 22227297]),\n",
       " ('Alphonso XIII of Spain', [1869181628]),\n",
       " (\"Alphonso d'Albuquerque\", [849737312]),\n",
       " ('Alphonsus a Sancta Maria', [21950742, 21950742, 21950742]),\n",
       " ('Alphorn', [17145613, 17145613, 17145613])]"
      ]
     },
     "execution_count": 69,
     "metadata": {},
     "output_type": "execute_result"
    }
   ],
   "source": [
    "small_trie.items('Alph')"
   ]
  },
  {
   "cell_type": "code",
   "execution_count": 78,
   "metadata": {
    "collapsed": false
   },
   "outputs": [
    {
     "name": "stdout",
     "output_type": "stream",
     "text": [
      "100 loops, best of 3: 4.16 ms per loop\n"
     ]
    }
   ],
   "source": [
    "%timeit small_trie.items('Al')"
   ]
  },
  {
   "cell_type": "code",
   "execution_count": 74,
   "metadata": {
    "collapsed": false
   },
   "outputs": [
    {
     "data": {
      "text/plain": [
       "2295"
      ]
     },
     "execution_count": 74,
     "metadata": {},
     "output_type": "execute_result"
    }
   ],
   "source": [
    "len(small_trie.items('Al'))"
   ]
  },
  {
   "cell_type": "code",
   "execution_count": 76,
   "metadata": {
    "collapsed": false
   },
   "outputs": [],
   "source": [
    "from collections import defaultdict"
   ]
  },
  {
   "cell_type": "code",
   "execution_count": null,
   "metadata": {
    "collapsed": true
   },
   "outputs": [],
   "source": [
    "from numpy import uint64\n",
    "uint64_7 = np.uint64(7)\n",
    "uint64_11 = uint64(11)\n",
    "def get_enclosing_offsets4(o):\n",
    "    ix = offsets.searchsorted(o, side='right')\n",
    "    return (o-uint64_7, offsets[ix]-uint64_11)"
   ]
  },
  {
   "cell_type": "code",
   "execution_count": 85,
   "metadata": {
    "collapsed": false
   },
   "outputs": [],
   "source": [
    "from numpy import uint64\n",
    "uint64_7 = np.uint64(7)\n",
    "uint64_11 = uint64(11)\n",
    "def get_page_offsets_for_key(search, trie, offsets):\n",
    "    items = trie.items(search)\n",
    "    results = defaultdict(list)\n",
    "    for (key, value) in items:\n",
    "        for v in value:\n",
    "            o = uint64(v if v > 0 else v*-1)\n",
    "            ix = offsets.searchsorted(o, side='right')\n",
    "            results[key].append((int(o-uint64_7), int(offsets[ix]-uint64_11)))\n",
    "    return results or None"
   ]
  },
  {
   "cell_type": "code",
   "execution_count": 113,
   "metadata": {
    "collapsed": true
   },
   "outputs": [],
   "source": [
    "from numpy import uint64\n",
    "uint64_7 = np.uint64(7)\n",
    "uint64_11 = uint64(11)\n",
    "def get_page_offsets_for_key2(search, trie, offsets):\n",
    "    items = trie.items(search)\n",
    "    results = []\n",
    "    for (key, value) in items:\n",
    "        for v in value:\n",
    "            o = uint64(v if v > 0 else v*-1)\n",
    "            ix = offsets.searchsorted(o, side='right')\n",
    "            results.append((key, (int(o-uint64_7), int(offsets[ix]-uint64_11))))\n",
    "    return results"
   ]
  },
  {
   "cell_type": "code",
   "execution_count": null,
   "metadata": {
    "collapsed": true
   },
   "outputs": [],
   "source": [
    "from numpy import uint64\n",
    "uint64_7 = np.uint64(7)\n",
    "uint64_11 = uint64(11)\n",
    "def get_page_offsets_for_key3(search, trie, offsets, offset_trie):\n",
    "    items = trie.items(search)\n",
    "    results = []\n",
    "    for (key, value) in items:\n",
    "        for v in value:\n",
    "            if v < 0:\n",
    "                \n",
    "            o = uint64(v if v > 0 else v*-1)\n",
    "            ix = offsets.searchsorted(o, side='right')\n",
    "            results.append((key, (int(o-uint64_7), int(offsets[ix]-uint64_11))))\n",
    "    return results"
   ]
  },
  {
   "cell_type": "code",
   "execution_count": 115,
   "metadata": {
    "collapsed": false
   },
   "outputs": [
    {
     "name": "stdout",
     "output_type": "stream",
     "text": [
      "1000 loops, best of 3: 205 µs per loop\n"
     ]
    }
   ],
   "source": [
    "%timeit get_page_offsets_for_key2('alpha', small_trie, offsets)"
   ]
  },
  {
   "cell_type": "code",
   "execution_count": 90,
   "metadata": {
    "collapsed": false
   },
   "outputs": [
    {
     "data": {
      "text/plain": [
       "[('Alphonso', (1869195953, 1869196572)),\n",
       " ('Alphonso D Albuquerque', (849735505, 849736079)),\n",
       " ('Alphonso I', (1869354079, 1869354680)),\n",
       " ('Alphonso I of Portugal', (2750663170, 2750663805)),\n",
       " ('Alphonso I of Spain', (21890018, 21891191)),\n",
       " ('Alphonso I of Spain', (21890018, 21891191)),\n",
       " ('Alphonso I of Spain', (21890018, 21891191)),\n",
       " ('Alphonso II', (1869353487, 1869354075)),\n",
       " ('Alphonso II of Aragon', (1869209074, 1869209708)),\n",
       " ('Alphonso II of Asturies', (1869182884, 1869183524)),\n",
       " ('Alphonso II of Portugal', (2750663809, 2750664431)),\n",
       " ('Alphonso II of Spain', (1735538773, 1735539348)),\n",
       " ('Alphonso III', (1869352876, 1869353483)),\n",
       " ('Alphonso III of Aragon', (1869304626, 1869305247)),\n",
       " ('Alphonso III of Leon', (1869183528, 1869184155)),\n",
       " ('Alphonso III of Portugal', (2750665687, 2750666328)),\n",
       " ('Alphonso IV', (1869354684, 1869355272)),\n",
       " ('Alphonso IV of Aragon', (1869305251, 1869305885)),\n",
       " ('Alphonso IV of Leon', (1869192685, 1869193302)),\n",
       " ('Alphonso IV of Portugal', (2750667635, 2750668257)),\n",
       " ('Alphonso IX', (22224709, 22225431)),\n",
       " ('Alphonso IX', (22224709, 22225431)),\n",
       " ('Alphonso IX', (22224709, 22225431)),\n",
       " ('Alphonso IX of Castile', (1869351039, 1869351774)),\n",
       " ('Alphonso IX of Spain', (1869195216, 1869195949)),\n",
       " ('Alphonso Raymond of Castile', (2780947094, 2780947665)),\n",
       " ('Alphonso V', (1869355276, 1869355877)),\n",
       " ('Alphonso V of Aragon', (853469048, 853469677)),\n",
       " ('Alphonso V of Castile', (1869193306, 1869193871)),\n",
       " ('Alphonso V of Portugal', (849736083, 849736716)),\n",
       " ('Alphonso V of Spain', (853468482, 853469044)),\n",
       " ('Alphonso VI', (1869355881, 1869356469)),\n",
       " ('Alphonso VI of Castile', (1869193875, 1869194540)),\n",
       " ('Alphonso VI of Portugal', (2750671094, 2750671716)),\n",
       " ('Alphonso VII', (22223463, 22224118)),\n",
       " ('Alphonso VII', (22223463, 22224118)),\n",
       " ('Alphonso VII', (22223463, 22224118)),\n",
       " ('Alphonso VII of Castile', (1869194544, 1869195212)),\n",
       " ('Alphonso VIII', (22224122, 22224705)),\n",
       " ('Alphonso VIII', (22224122, 22224705)),\n",
       " ('Alphonso VIII', (22224122, 22224705)),\n",
       " ('Alphonso VIII of Castile', (999378182, 999378761)),\n",
       " ('Alphonso VIII of Spain', (21900188, 21900764)),\n",
       " ('Alphonso VIII of Spain', (21900188, 21900764)),\n",
       " ('Alphonso VIII of Spain', (21900188, 21900764)),\n",
       " ('Alphonso X', (22225435, 22226075)),\n",
       " ('Alphonso X', (22225435, 22226075)),\n",
       " ('Alphonso X', (22225435, 22226075)),\n",
       " ('Alphonso X of Castile', (1869196576, 1869197229)),\n",
       " ('Alphonso XI', (22226079, 22226722)),\n",
       " ('Alphonso XI', (22226079, 22226722)),\n",
       " ('Alphonso XI', (22226079, 22226722)),\n",
       " ('Alphonso XI of Castile', (1869207781, 1869208437)),\n",
       " ('Alphonso XII', (22226726, 22227286)),\n",
       " ('Alphonso XII', (22226726, 22227286)),\n",
       " ('Alphonso XII', (22226726, 22227286)),\n",
       " ('Alphonso XII of Spain', (1869182246, 1869182880)),\n",
       " ('Alphonso XIII', (22227290, 22227853)),\n",
       " ('Alphonso XIII', (22227290, 22227853)),\n",
       " ('Alphonso XIII', (22227290, 22227853)),\n",
       " ('Alphonso XIII of Spain', (1869181621, 1869182242)),\n",
       " (\"Alphonso d'Albuquerque\", (849737305, 849737879))]"
      ]
     },
     "execution_count": 90,
     "metadata": {},
     "output_type": "execute_result"
    }
   ],
   "source": [
    "get_page_offsets_for_key2('Alphonso', small_trie, offsets)"
   ]
  },
  {
   "cell_type": "code",
   "execution_count": 91,
   "metadata": {
    "collapsed": false
   },
   "outputs": [
    {
     "data": {
      "text/plain": [
       "[('Alphonso', [1869195960]),\n",
       " ('Alphonso D Albuquerque', [849735512]),\n",
       " ('Alphonso I', [1869354086]),\n",
       " ('Alphonso I of Portugal', [2750663177]),\n",
       " ('Alphonso I of Spain', [21890025, 21890025, 21890025]),\n",
       " ('Alphonso II', [1869353494]),\n",
       " ('Alphonso II of Aragon', [1869209081]),\n",
       " ('Alphonso II of Asturies', [1869182891]),\n",
       " ('Alphonso II of Portugal', [2750663816]),\n",
       " ('Alphonso II of Spain', [1735538780]),\n",
       " ('Alphonso III', [1869352883]),\n",
       " ('Alphonso III of Aragon', [1869304633]),\n",
       " ('Alphonso III of Leon', [1869183535]),\n",
       " ('Alphonso III of Portugal', [2750665694]),\n",
       " ('Alphonso IV', [1869354691]),\n",
       " ('Alphonso IV of Aragon', [1869305258]),\n",
       " ('Alphonso IV of Leon', [1869192692]),\n",
       " ('Alphonso IV of Portugal', [2750667642]),\n",
       " ('Alphonso IX', [22224716, 22224716, 22224716]),\n",
       " ('Alphonso IX of Castile', [1869351046]),\n",
       " ('Alphonso IX of Spain', [1869195223]),\n",
       " ('Alphonso Raymond of Castile', [2780947101]),\n",
       " ('Alphonso V', [1869355283]),\n",
       " ('Alphonso V of Aragon', [853469055]),\n",
       " ('Alphonso V of Castile', [1869193313]),\n",
       " ('Alphonso V of Portugal', [849736090]),\n",
       " ('Alphonso V of Spain', [853468489]),\n",
       " ('Alphonso VI', [1869355888]),\n",
       " ('Alphonso VI of Castile', [1869193882]),\n",
       " ('Alphonso VI of Portugal', [2750671101]),\n",
       " ('Alphonso VII', [22223470, 22223470, 22223470]),\n",
       " ('Alphonso VII of Castile', [1869194551]),\n",
       " ('Alphonso VIII', [22224129, 22224129, 22224129]),\n",
       " ('Alphonso VIII of Castile', [999378189]),\n",
       " ('Alphonso VIII of Spain', [21900195, 21900195, 21900195]),\n",
       " ('Alphonso X', [22225442, 22225442, 22225442]),\n",
       " ('Alphonso X of Castile', [1869196583]),\n",
       " ('Alphonso XI', [22226086, 22226086, 22226086]),\n",
       " ('Alphonso XI of Castile', [1869207788]),\n",
       " ('Alphonso XII', [22226733, 22226733, 22226733]),\n",
       " ('Alphonso XII of Spain', [1869182253]),\n",
       " ('Alphonso XIII', [22227297, 22227297, 22227297]),\n",
       " ('Alphonso XIII of Spain', [1869181628]),\n",
       " (\"Alphonso d'Albuquerque\", [849737312])]"
      ]
     },
     "execution_count": 91,
     "metadata": {},
     "output_type": "execute_result"
    }
   ],
   "source": [
    "small_trie.items('Alphonso')"
   ]
  },
  {
   "cell_type": "code",
   "execution_count": 110,
   "metadata": {
    "collapsed": true
   },
   "outputs": [],
   "source": [
    "import time"
   ]
  },
  {
   "cell_type": "code",
   "execution_count": 93,
   "metadata": {
    "collapsed": true
   },
   "outputs": [],
   "source": [
    "import sys\n",
    "err = sys.stderr.write"
   ]
  },
  {
   "cell_type": "code",
   "execution_count": 111,
   "metadata": {
    "collapsed": true
   },
   "outputs": [],
   "source": [
    "class timer:\n",
    "    def __init__(self, verbose=False):\n",
    "        self.start = None\n",
    "        self.stop = None\n",
    "        self.elapsed = None\n",
    "        self.nsec = None\n",
    "        self.msec = None\n",
    "        self.mill = None\n",
    "        self.fmt = None\n",
    "        self.verbose = verbose\n",
    "        \n",
    "    def __str__(self):\n",
    "        return self.fmt\n",
    "    \n",
    "    def __repr__(self):\n",
    "        return self.fmt\n",
    "        \n",
    "    def __enter__(self):\n",
    "        self.start = time.clock()\n",
    "        \n",
    "    def __exit__(self, *exc_info):\n",
    "        self.stop = time.clock()\n",
    "        self.elapsed = self.stop - self.start\n",
    "        self.nsec = self.elapsed * 1e9\n",
    "        self.msec = self.elapsed * 1e6\n",
    "        self.mill = self.elapsed * 1e3\n",
    "        if self.nsec < 1000:\n",
    "            self.fmt = \"%dns\" % self.nsec\n",
    "        elif self.msec < 1000:\n",
    "            self.fmt = \"%dµs\" % self.msec\n",
    "        elif self.mill < 1000:\n",
    "            self.fmt = \"%dms\" % self.mill\n",
    "        else:\n",
    "            self.fmt = \"%0.3fs\" % self.elapsed\n",
    "        \n",
    "        if self.verbose:\n",
    "            print(self.fmt)\n",
    "    \n",
    "    @classmethod\n",
    "    def timeit(cls):\n",
    "        return cls(verbose=True)"
   ]
  },
  {
   "cell_type": "code",
   "execution_count": 112,
   "metadata": {
    "collapsed": false
   },
   "outputs": [
    {
     "name": "stdout",
     "output_type": "stream",
     "text": [
      "128µs\n"
     ]
    }
   ],
   "source": [
    "with timer.timeit():\n",
    "    small_trie.items('Alphonso')"
   ]
  },
  {
   "cell_type": "code",
   "execution_count": 99,
   "metadata": {
    "collapsed": false
   },
   "outputs": [
    {
     "name": "stdout",
     "output_type": "stream",
     "text": [
      "1.539556251373142e-06\n"
     ]
    }
   ],
   "source": [
    "with timer():\n",
    "    pass"
   ]
  },
  {
   "cell_type": "code",
   "execution_count": 100,
   "metadata": {
    "collapsed": true
   },
   "outputs": [],
   "source": [
    "r = 1.539556251373142e-06\n"
   ]
  },
  {
   "cell_type": "code",
   "execution_count": 102,
   "metadata": {
    "collapsed": false
   },
   "outputs": [
    {
     "data": {
      "text/plain": [
       "False"
      ]
     },
     "execution_count": 102,
     "metadata": {},
     "output_type": "execute_result"
    }
   ],
   "source": [
    "r < 1e-6"
   ]
  },
  {
   "cell_type": "code",
   "execution_count": 103,
   "metadata": {
    "collapsed": false
   },
   "outputs": [
    {
     "data": {
      "text/plain": [
       "1.539556251373142e-06"
      ]
     },
     "execution_count": 103,
     "metadata": {},
     "output_type": "execute_result"
    }
   ],
   "source": [
    "r"
   ]
  },
  {
   "cell_type": "code",
   "execution_count": 104,
   "metadata": {
    "collapsed": false
   },
   "outputs": [
    {
     "data": {
      "text/plain": [
       "1.539556251373142"
      ]
     },
     "execution_count": 104,
     "metadata": {},
     "output_type": "execute_result"
    }
   ],
   "source": [
    "r * 1e6"
   ]
  },
  {
   "cell_type": "code",
   "execution_count": 116,
   "metadata": {
    "collapsed": false
   },
   "outputs": [
    {
     "name": "stdout",
     "output_type": "stream",
     "text": [
      "3µs\n"
     ]
    },
    {
     "ename": "NameError",
     "evalue": "name 'titles' is not defined",
     "output_type": "error",
     "traceback": [
      "\u001b[1;31m---------------------------------------------------------------------------\u001b[0m",
      "\u001b[1;31mNameError\u001b[0m                                 Traceback (most recent call last)",
      "\u001b[1;32m<ipython-input-116-a7544a6f69d2>\u001b[0m in \u001b[0;36m<module>\u001b[1;34m()\u001b[0m\n\u001b[0;32m      1\u001b[0m \u001b[1;32mwith\u001b[0m \u001b[0mtimer\u001b[0m\u001b[1;33m.\u001b[0m\u001b[0mtimeit\u001b[0m\u001b[1;33m(\u001b[0m\u001b[1;33m)\u001b[0m\u001b[1;33m:\u001b[0m\u001b[1;33m\u001b[0m\u001b[0m\n\u001b[1;32m----> 2\u001b[1;33m     \u001b[0mdummy2\u001b[0m \u001b[1;33m=\u001b[0m \u001b[0mget_page_offsets_for_key2\u001b[0m\u001b[1;33m(\u001b[0m\u001b[1;34m'alphonso'\u001b[0m\u001b[1;33m,\u001b[0m \u001b[0mtitles\u001b[0m\u001b[1;33m,\u001b[0m \u001b[0moffsets\u001b[0m\u001b[1;33m)\u001b[0m\u001b[1;33m\u001b[0m\u001b[0m\n\u001b[0m",
      "\u001b[1;31mNameError\u001b[0m: name 'titles' is not defined"
     ]
    }
   ],
   "source": [
    "with timer.timeit():\n",
    "    dummy2 = get_page_offsets_for_key2('alphonso', titles, offsets)"
   ]
  },
  {
   "cell_type": "code",
   "execution_count": 122,
   "metadata": {
    "collapsed": true
   },
   "outputs": [],
   "source": [
    "state = datrie.State(small_trie)"
   ]
  },
  {
   "cell_type": "code",
   "execution_count": 126,
   "metadata": {
    "collapsed": false
   },
   "outputs": [
    {
     "data": {
      "text/plain": [
       "False"
      ]
     },
     "execution_count": 126,
     "metadata": {},
     "output_type": "execute_result"
    }
   ],
   "source": [
    "state.walk('alphonso')"
   ]
  },
  {
   "cell_type": "code",
   "execution_count": 127,
   "metadata": {
    "collapsed": true
   },
   "outputs": [],
   "source": [
    "it = datrie.Iterator(state)"
   ]
  },
  {
   "cell_type": "code",
   "execution_count": 128,
   "metadata": {
    "collapsed": false
   },
   "outputs": [
    {
     "data": {
      "text/plain": [
       "[('', [1869195960]),\n",
       " (' D Albuquerque', [849735512]),\n",
       " (' I', [1869354086]),\n",
       " (' I of Portugal', [2750663177]),\n",
       " (' I of Spain', [21890025, 21890025, 21890025]),\n",
       " (' II', [1869353494]),\n",
       " (' II of Aragon', [1869209081]),\n",
       " (' II of Asturies', [1869182891]),\n",
       " (' II of Portugal', [2750663816])]"
      ]
     },
     "execution_count": 128,
     "metadata": {},
     "output_type": "execute_result"
    }
   ],
   "source": [
    "[ (it.key(), it.data()) for i in range(0, 9) if it.next() ]"
   ]
  },
  {
   "cell_type": "code",
   "execution_count": 129,
   "metadata": {
    "collapsed": true
   },
   "outputs": [],
   "source": [
    "state??\n"
   ]
  },
  {
   "cell_type": "code",
   "execution_count": 130,
   "metadata": {
    "collapsed": false
   },
   "outputs": [
    {
     "data": {
      "text/plain": [
       "['__class__',\n",
       " '__delattr__',\n",
       " '__dir__',\n",
       " '__doc__',\n",
       " '__eq__',\n",
       " '__format__',\n",
       " '__ge__',\n",
       " '__getattribute__',\n",
       " '__gt__',\n",
       " '__hash__',\n",
       " '__init__',\n",
       " '__le__',\n",
       " '__lt__',\n",
       " '__ne__',\n",
       " '__new__',\n",
       " '__pyx_vtable__',\n",
       " '__reduce__',\n",
       " '__reduce_ex__',\n",
       " '__repr__',\n",
       " '__setattr__',\n",
       " '__sizeof__',\n",
       " '__str__',\n",
       " '__subclasshook__',\n",
       " '__unicode__',\n",
       " 'copy_to',\n",
       " 'data',\n",
       " 'is_leaf',\n",
       " 'is_single',\n",
       " 'is_terminal',\n",
       " 'rewind',\n",
       " 'walk']"
      ]
     },
     "execution_count": 130,
     "metadata": {},
     "output_type": "execute_result"
    }
   ],
   "source": [
    "dir(state)"
   ]
  },
  {
   "cell_type": "code",
   "execution_count": 131,
   "metadata": {
    "collapsed": true
   },
   "outputs": [],
   "source": [
    "datrie.State."
   ]
  },
  {
   "cell_type": "code",
   "execution_count": 3,
   "metadata": {
    "collapsed": false
   },
   "outputs": [
    {
     "name": "stdout",
     "output_type": "stream",
     "text": [
      "The slowest run took 4.23 times longer than the fastest. This could mean that an intermediate result is being cached \n",
      "100000 loops, best of 3: 2.33 µs per loop\n"
     ]
    }
   ],
   "source": [
    "%timeit list((None, None, None) * 100)"
   ]
  },
  {
   "cell_type": "code",
   "execution_count": 2,
   "metadata": {
    "collapsed": false
   },
   "outputs": [
    {
     "name": "stdout",
     "output_type": "stream",
     "text": [
      "100000 loops, best of 3: 3.38 µs per loop\n"
     ]
    }
   ],
   "source": [
    "%timeit [ None for _ in range(0, 100) ]"
   ]
  },
  {
   "cell_type": "code",
   "execution_count": 4,
   "metadata": {
    "collapsed": false
   },
   "outputs": [
    {
     "ename": "ImportError",
     "evalue": "DLL load failed: The specified module could not be found.",
     "output_type": "error",
     "traceback": [
      "\u001b[1;31m---------------------------------------------------------------------------\u001b[0m",
      "\u001b[1;31mImportError\u001b[0m                               Traceback (most recent call last)",
      "\u001b[1;32m<ipython-input-4-7b0010dff996>\u001b[0m in \u001b[0;36m<module>\u001b[1;34m()\u001b[0m\n\u001b[1;32m----> 1\u001b[1;33m \u001b[1;32mimport\u001b[0m \u001b[0mdatrie\u001b[0m\u001b[1;33m\u001b[0m\u001b[0m\n\u001b[0m",
      "\u001b[1;31mImportError\u001b[0m: DLL load failed: The specified module could not be found."
     ]
    }
   ],
   "source": [
    "import datrie"
   ]
  },
  {
   "cell_type": "code",
   "execution_count": 5,
   "metadata": {
    "collapsed": false
   },
   "outputs": [
    {
     "name": "stdout",
     "output_type": "stream",
     "text": [
      "Collecting datrie\n",
      "  Downloading datrie-0.7.tar.gz (165kB)\n",
      "Installing collected packages: datrie\n",
      "  Running setup.py install for datrie\n",
      "    building 'datrie' extension\n",
      "    c:\\Program Files (x86)\\Microsoft Visual Studio 10.0\\VC\\BIN\\amd64\\cl.exe /c /nologo /Ox /MD /W3 /GS- /DNDEBUG -Ilibdatrie -IC:\\Users\\Trent\\Anaconda3\\include -IC:\\Users\\Trent\\Anaconda3\\include /Tcsrc/datrie.c /Fobuild\\temp.win-amd64-3.4\\Release\\src/datrie.obj\n",
      "    datrie.c\n",
      "    src/datrie.c(2077) : warning C4133: 'function' : incompatible types - from 'AlphaMap *' to 'const AlphaMap *'\n",
      "    src/datrie.c(9174) : warning C4244: '=' : conversion from 'Py_ssize_t' to 'TrieData', possible loss of data\n",
      "    src/datrie.c(9349) : warning C4244: '=' : conversion from 'Py_ssize_t' to 'TrieData', possible loss of data\n",
      "    src/datrie.c(14358) : warning C4133: '=' : incompatible types - from 'AlphaMap *' to 'AlphaMap *'\n",
      "    src/datrie.c(14440) : warning C4133: 'function' : incompatible types - from 'AlphaMap *' to 'AlphaMap *'\n",
      "    src/datrie.c(15100) : warning C4133: 'function' : incompatible types - from 'AlphaMap *' to 'AlphaMap *'\n",
      "    src/datrie.c(15274) : warning C4244: '=' : conversion from 'Py_ssize_t' to 'int', possible loss of data\n",
      "    c:\\Program Files (x86)\\Microsoft Visual Studio 10.0\\VC\\BIN\\amd64\\cl.exe /c /nologo /Ox /MD /W3 /GS- /DNDEBUG -Ilibdatrie -IC:\\Users\\Trent\\Anaconda3\\include -IC:\\Users\\Trent\\Anaconda3\\include /Tcsrc/cdatrie.c /Fobuild\\temp.win-amd64-3.4\\Release\\src/cdatrie.obj\n",
      "    cdatrie.c\n",
      "    c:\\Program Files (x86)\\Microsoft Visual Studio 10.0\\VC\\BIN\\amd64\\cl.exe /c /nologo /Ox /MD /W3 /GS- /DNDEBUG -Ilibdatrie -IC:\\Users\\Trent\\Anaconda3\\include -IC:\\Users\\Trent\\Anaconda3\\include /Tcsrc/stdio_ext.c /Fobuild\\temp.win-amd64-3.4\\Release\\src/stdio_ext.obj\n",
      "    stdio_ext.c\n",
      "    c:\\Program Files (x86)\\Microsoft Visual Studio 10.0\\VC\\BIN\\amd64\\cl.exe /c /nologo /Ox /MD /W3 /GS- /DNDEBUG -Ilibdatrie -IC:\\Users\\Trent\\Anaconda3\\include -IC:\\Users\\Trent\\Anaconda3\\include /Tclibdatrie/datrie\\alpha-map.c /Fobuild\\temp.win-amd64-3.4\\Release\\libdatrie/datrie\\alpha-map.obj\n",
      "    alpha-map.c\n",
      "    libdatrie/datrie\\alpha-map.c(51) : warning C4244: 'return' : conversion from '__int64' to 'int', possible loss of data\n",
      "    c:\\Program Files (x86)\\Microsoft Visual Studio 10.0\\VC\\BIN\\amd64\\cl.exe /c /nologo /Ox /MD /W3 /GS- /DNDEBUG -Ilibdatrie -IC:\\Users\\Trent\\Anaconda3\\include -IC:\\Users\\Trent\\Anaconda3\\include /Tclibdatrie/datrie\\darray.c /Fobuild\\temp.win-amd64-3.4\\Release\\libdatrie/datrie\\darray.obj\n",
      "    darray.c\n",
      "    c:\\Program Files (x86)\\Microsoft Visual Studio 10.0\\VC\\BIN\\amd64\\cl.exe /c /nologo /Ox /MD /W3 /GS- /DNDEBUG -Ilibdatrie -IC:\\Users\\Trent\\Anaconda3\\include -IC:\\Users\\Trent\\Anaconda3\\include /Tclibdatrie/datrie\\fileutils.c /Fobuild\\temp.win-amd64-3.4\\Release\\libdatrie/datrie\\fileutils.obj\n",
      "    fileutils.c\n",
      "    c:\\Program Files (x86)\\Microsoft Visual Studio 10.0\\VC\\BIN\\amd64\\cl.exe /c /nologo /Ox /MD /W3 /GS- /DNDEBUG -Ilibdatrie -IC:\\Users\\Trent\\Anaconda3\\include -IC:\\Users\\Trent\\Anaconda3\\include /Tclibdatrie/datrie\\tail.c /Fobuild\\temp.win-amd64-3.4\\Release\\libdatrie/datrie\\tail.obj\n",
      "    tail.c\n",
      "    libdatrie/datrie\\tail.c(236) : warning C4267: '=' : conversion from 'size_t' to 'int16', possible loss of data\n",
      "    libdatrie/datrie\\tail.c(288) : warning C4996: 'strdup': The POSIX name for this item is deprecated. Instead, use the ISO C++ conformant name: _strdup. See online help for details.\n",
      "            c:\\Program Files (x86)\\Microsoft Visual Studio 10.0\\VC\\INCLUDE\\string.h(238) : see declaration of 'strdup'\n",
      "    c:\\Program Files (x86)\\Microsoft Visual Studio 10.0\\VC\\BIN\\amd64\\cl.exe /c /nologo /Ox /MD /W3 /GS- /DNDEBUG -Ilibdatrie -IC:\\Users\\Trent\\Anaconda3\\include -IC:\\Users\\Trent\\Anaconda3\\include /Tclibdatrie/datrie\\trie.c /Fobuild\\temp.win-amd64-3.4\\Release\\libdatrie/datrie\\trie.obj\n",
      "    trie.c\n",
      "    libdatrie/datrie\\trie.c(165) : warning C4996: 'fopen': This function or variable may be unsafe. Consider using fopen_s instead. To disable deprecation, use _CRT_SECURE_NO_WARNINGS. See online help for details.\n",
      "            c:\\Program Files (x86)\\Microsoft Visual Studio 10.0\\VC\\INCLUDE\\stdio.h(234) : see declaration of 'fopen'\n",
      "    libdatrie/datrie\\trie.c(251) : warning C4996: 'fopen': This function or variable may be unsafe. Consider using fopen_s instead. To disable deprecation, use _CRT_SECURE_NO_WARNINGS. See online help for details.\n",
      "            c:\\Program Files (x86)\\Microsoft Visual Studio 10.0\\VC\\INCLUDE\\stdio.h(234) : see declaration of 'fopen'\n",
      "    c:\\Program Files (x86)\\Microsoft Visual Studio 10.0\\VC\\BIN\\amd64\\cl.exe /c /nologo /Ox /MD /W3 /GS- /DNDEBUG -Ilibdatrie -IC:\\Users\\Trent\\Anaconda3\\include -IC:\\Users\\Trent\\Anaconda3\\include /Tclibdatrie/datrie\\dstring.c /Fobuild\\temp.win-amd64-3.4\\Release\\libdatrie/datrie\\dstring.obj\n",
      "    dstring.c\n",
      "    c:\\Program Files (x86)\\Microsoft Visual Studio 10.0\\VC\\BIN\\amd64\\cl.exe /c /nologo /Ox /MD /W3 /GS- /DNDEBUG -Ilibdatrie -IC:\\Users\\Trent\\Anaconda3\\include -IC:\\Users\\Trent\\Anaconda3\\include /Tclibdatrie/datrie\\trie-string.c /Fobuild\\temp.win-amd64-3.4\\Release\\libdatrie/datrie\\trie-string.obj\n",
      "    trie-string.c\n",
      "    libdatrie/datrie\\trie-string.c(91) : warning C4267: 'function' : conversion from 'size_t' to 'int', possible loss of data\n",
      "    c:\\Program Files (x86)\\Microsoft Visual Studio 10.0\\VC\\BIN\\amd64\\link.exe /DLL /nologo /INCREMENTAL:NO /LIBPATH:C:\\Users\\Trent\\Anaconda3\\libs /LIBPATH:C:\\Users\\Trent\\Anaconda3\\PCbuild\\amd64 /EXPORT:PyInit_datrie build\\temp.win-amd64-3.4\\Release\\src/datrie.obj build\\temp.win-amd64-3.4\\Release\\src/cdatrie.obj build\\temp.win-amd64-3.4\\Release\\src/stdio_ext.obj build\\temp.win-amd64-3.4\\Release\\libdatrie/datrie\\alpha-map.obj build\\temp.win-amd64-3.4\\Release\\libdatrie/datrie\\darray.obj build\\temp.win-amd64-3.4\\Release\\libdatrie/datrie\\fileutils.obj build\\temp.win-amd64-3.4\\Release\\libdatrie/datrie\\tail.obj build\\temp.win-amd64-3.4\\Release\\libdatrie/datrie\\trie.obj build\\temp.win-amd64-3.4\\Release\\libdatrie/datrie\\dstring.obj build\\temp.win-amd64-3.4\\Release\\libdatrie/datrie\\trie-string.obj /OUT:build\\lib.win-amd64-3.4\\datrie.pyd /IMPLIB:build\\temp.win-amd64-3.4\\Release\\src\\datrie.lib /MANIFESTFILE:build\\temp.win-amd64-3.4\\Release\\src\\datrie.pyd.manifest\n",
      "    datrie.obj : warning LNK4197: export 'PyInit_datrie' specified multiple times; using first specification\n",
      "       Creating library build\\temp.win-amd64-3.4\\Release\\src\\datrie.lib and object build\\temp.win-amd64-3.4\\Release\\src\\datrie.exp\n",
      "Successfully installed datrie-0.7\n"
     ]
    }
   ],
   "source": [
    "!pip install datrie"
   ]
  },
  {
   "cell_type": "code",
   "execution_count": 1,
   "metadata": {
    "collapsed": false
   },
   "outputs": [
    {
     "ename": "ImportError",
     "evalue": "DLL load failed: The specified module could not be found.",
     "output_type": "error",
     "traceback": [
      "\u001b[1;31m---------------------------------------------------------------------------\u001b[0m",
      "\u001b[1;31mImportError\u001b[0m                               Traceback (most recent call last)",
      "\u001b[1;32m<ipython-input-1-7b0010dff996>\u001b[0m in \u001b[0;36m<module>\u001b[1;34m()\u001b[0m\n\u001b[1;32m----> 1\u001b[1;33m \u001b[1;32mimport\u001b[0m \u001b[0mdatrie\u001b[0m\u001b[1;33m\u001b[0m\u001b[0m\n\u001b[0m",
      "\u001b[1;31mImportError\u001b[0m: DLL load failed: The specified module could not be found."
     ]
    }
   ],
   "source": [
    "import datrie"
   ]
  },
  {
   "cell_type": "code",
   "execution_count": 2,
   "metadata": {
    "collapsed": true
   },
   "outputs": [],
   "source": [
    "import os\n",
    "os.chdir('..')"
   ]
  },
  {
   "cell_type": "code",
   "execution_count": 3,
   "metadata": {
    "collapsed": true
   },
   "outputs": [],
   "source": [
    "import datrie"
   ]
  },
  {
   "cell_type": "code",
   "execution_count": 4,
   "metadata": {
    "collapsed": true
   },
   "outputs": [],
   "source": [
    "os.chdir('wiki')\n"
   ]
  },
  {
   "cell_type": "code",
   "execution_count": 12,
   "metadata": {
    "collapsed": true
   },
   "outputs": [],
   "source": [
    "import string"
   ]
  },
  {
   "cell_type": "code",
   "execution_count": 37,
   "metadata": {
    "collapsed": true
   },
   "outputs": [],
   "source": [
    "routes = datrie.Trie(string.ascii_lowercase + '/')"
   ]
  },
  {
   "cell_type": "code",
   "execution_count": 39,
   "metadata": {
    "collapsed": false
   },
   "outputs": [],
   "source": [
    "class route:\n",
    "    def __init__(self, func, *args, **kwds):\n",
    "        self.func = func\n",
    "        self.args = args\n",
    "        self.kwds = kwds\n",
    "        self.funcname = func.__code__.co_name\n",
    "        \n",
    "        routes[self.funcname] = func\n",
    "            \n",
    "        print(\"__init__(%r, %r, %r)\" % (func, args, kwds))\n",
    "        print(\"funcname: %s\" % self.funcname)\n",
    "        #print(\"routes: %r\" % routes)\n",
    "        #funcname = func.co_\n",
    "\n",
    "    def __get__(self, *args, **kwds):\n",
    "        print(\"__get__(%r, %r)\" % (args, kwds))\n",
    "        return self.func\n",
    "\n",
    "    def __call__(self, *args, **kwds):\n",
    "        print(\"__call__(%r, %r)\" % (args, kwds))\n",
    "        return self.func(*args, **kwds)\n",
    "    "
   ]
  },
  {
   "cell_type": "code",
   "execution_count": 40,
   "metadata": {
    "collapsed": false
   },
   "outputs": [
    {
     "name": "stdout",
     "output_type": "stream",
     "text": [
      "__init__(<function WikiServer.offsets at 0x0000000005B50378>, (), {})\n",
      "funcname: offsets\n",
      "__init__(<function WikiServer.wiki at 0x0000000005B50400>, (), {})\n",
      "funcname: wiki\n"
     ]
    }
   ],
   "source": [
    "class WikiServer:\n",
    "    @route\n",
    "    def offsets(self, request, *args, **kwds):\n",
    "        if not args:\n",
    "            return self.error(request, 400, \"Missing name\")\n",
    "        name = args[0]\n",
    "        limit = kwds.get('limit')\n",
    "        return json.dumps(get_page_offsets_for_key3(name))\n",
    "    @route\n",
    "    def wiki(self, request, *args, **kwds):\n",
    "        if not request.range:\n",
    "            return self.error(request, 400, \"Ranged-request required.\")\n",
    "        else:\n",
    "            request.content_type = 'text/xml; charset=utf-8'\n",
    "            return self.sendfile(request, 'wiki.xml')\n",
    "    def sendfile(self, *args):\n",
    "        print(\"sendfile: %r\" % args)\n",
    "    "
   ]
  },
  {
   "cell_type": "code",
   "execution_count": 36,
   "metadata": {
    "collapsed": false
   },
   "outputs": [
    {
     "ename": "AttributeError",
     "evalue": "type object 'NoneType' has no attribute 'routes'",
     "output_type": "error",
     "traceback": [
      "\u001b[1;31m---------------------------------------------------------------------------\u001b[0m",
      "\u001b[1;31mAttributeError\u001b[0m                            Traceback (most recent call last)",
      "\u001b[1;32m<ipython-input-36-a2c4ffe942c4>\u001b[0m in \u001b[0;36m<module>\u001b[1;34m()\u001b[0m\n\u001b[1;32m----> 1\u001b[1;33m \u001b[0mf\u001b[0m\u001b[1;33m.\u001b[0m\u001b[0m__class__\u001b[0m\u001b[1;33m.\u001b[0m\u001b[0mroutes\u001b[0m\u001b[1;33m\u001b[0m\u001b[0m\n\u001b[0m",
      "\u001b[1;31mAttributeError\u001b[0m: type object 'NoneType' has no attribute 'routes'"
     ]
    }
   ],
   "source": [
    "f.__class__.routes"
   ]
  },
  {
   "cell_type": "code",
   "execution_count": 16,
   "metadata": {
    "collapsed": false
   },
   "outputs": [
    {
     "name": "stdout",
     "output_type": "stream",
     "text": [
      "__get__((None, <class '__main__.WikiServer'>), {})\n"
     ]
    }
   ],
   "source": [
    "f = WikiServer.offsets"
   ]
  },
  {
   "cell_type": "code",
   "execution_count": 17,
   "metadata": {
    "collapsed": false
   },
   "outputs": [
    {
     "data": {
      "text/plain": [
       "function"
      ]
     },
     "execution_count": 17,
     "metadata": {},
     "output_type": "execute_result"
    }
   ],
   "source": [
    "type(f)"
   ]
  },
  {
   "cell_type": "code",
   "execution_count": 18,
   "metadata": {
    "collapsed": false
   },
   "outputs": [
    {
     "ename": "AttributeError",
     "evalue": "'function' object has no attribute 'func_name'",
     "output_type": "error",
     "traceback": [
      "\u001b[1;31m---------------------------------------------------------------------------\u001b[0m",
      "\u001b[1;31mAttributeError\u001b[0m                            Traceback (most recent call last)",
      "\u001b[1;32m<ipython-input-18-9abdadff55e6>\u001b[0m in \u001b[0;36m<module>\u001b[1;34m()\u001b[0m\n\u001b[1;32m----> 1\u001b[1;33m \u001b[0mf\u001b[0m\u001b[1;33m.\u001b[0m\u001b[0mfunc_name\u001b[0m\u001b[1;33m\u001b[0m\u001b[0m\n\u001b[0m",
      "\u001b[1;31mAttributeError\u001b[0m: 'function' object has no attribute 'func_name'"
     ]
    }
   ],
   "source": [
    "f.func_name"
   ]
  },
  {
   "cell_type": "code",
   "execution_count": 19,
   "metadata": {
    "collapsed": true
   },
   "outputs": [],
   "source": [
    "def foo():\n",
    "    pass"
   ]
  },
  {
   "cell_type": "code",
   "execution_count": 20,
   "metadata": {
    "collapsed": false
   },
   "outputs": [
    {
     "data": {
      "text/plain": [
       "['__annotations__',\n",
       " '__call__',\n",
       " '__class__',\n",
       " '__closure__',\n",
       " '__code__',\n",
       " '__defaults__',\n",
       " '__delattr__',\n",
       " '__dict__',\n",
       " '__dir__',\n",
       " '__doc__',\n",
       " '__eq__',\n",
       " '__format__',\n",
       " '__ge__',\n",
       " '__get__',\n",
       " '__getattribute__',\n",
       " '__globals__',\n",
       " '__gt__',\n",
       " '__hash__',\n",
       " '__init__',\n",
       " '__kwdefaults__',\n",
       " '__le__',\n",
       " '__lt__',\n",
       " '__module__',\n",
       " '__name__',\n",
       " '__ne__',\n",
       " '__new__',\n",
       " '__qualname__',\n",
       " '__reduce__',\n",
       " '__reduce_ex__',\n",
       " '__repr__',\n",
       " '__setattr__',\n",
       " '__sizeof__',\n",
       " '__str__',\n",
       " '__subclasshook__']"
      ]
     },
     "execution_count": 20,
     "metadata": {},
     "output_type": "execute_result"
    }
   ],
   "source": [
    "dir(foo)"
   ]
  },
  {
   "cell_type": "code",
   "execution_count": 24,
   "metadata": {
    "collapsed": false
   },
   "outputs": [
    {
     "data": {
      "text/plain": [
       "'foo'"
      ]
     },
     "execution_count": 24,
     "metadata": {},
     "output_type": "execute_result"
    }
   ],
   "source": [
    "foo.__code__.co_name"
   ]
  },
  {
   "cell_type": "code",
   "execution_count": null,
   "metadata": {
    "collapsed": true
   },
   "outputs": [],
   "source": [
    "http_header = "
   ]
  }
 ],
 "metadata": {
  "kernelspec": {
   "display_name": "Python 3",
   "language": "python",
   "name": "python3"
  },
  "language_info": {
   "codemirror_mode": {
    "name": "ipython",
    "version": 3
   },
   "file_extension": ".py",
   "mimetype": "text/x-python",
   "name": "python",
   "nbconvert_exporter": "python",
   "pygments_lexer": "ipython3",
   "version": "3.4.3"
  }
 },
 "nbformat": 4,
 "nbformat_minor": 0
}
